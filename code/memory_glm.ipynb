{
 "cells": [
  {
   "cell_type": "code",
   "execution_count": 8,
   "metadata": {},
   "outputs": [],
   "source": [
    "import pandas as pd\n",
    "from utils import deviance_analysis\n"
   ]
  },
  {
   "cell_type": "code",
   "execution_count": 9,
   "metadata": {},
   "outputs": [
    {
     "name": "stdout",
     "output_type": "stream",
     "text": [
      "(191170, 10)\n"
     ]
    }
   ],
   "source": [
    "\n",
    "df = pd.read_csv('../data/full-coin-data/coin data/analyses/data-long.csv')\n",
    "\n",
    "df['same_side'] = ( df['toss_start'] == df['toss_end'] ).astype(float)\n",
    "df['prev_flip_same_side'] = df.groupby('sequence_id')['same_side'].shift(1)\n",
    "df['prev_2_flip_same_side'] = df.groupby('sequence_id')['same_side'].shift(2)\n",
    "\n",
    "# Remove the first two entries of each sequence to avoid NaN values\n",
    "df = df[df['toss_id'] > 2].reset_index(drop=True)\n",
    "# Only keep a fraction of the data to speed up the analysis\n",
    "df = df[df['sequence_id'] < 40].reset_index(drop=True)\n",
    "\n",
    "#print(df.iloc[10000-10:10005-10])\n",
    "print(df.shape)\n"
   ]
  },
  {
   "cell_type": "code",
   "execution_count": 10,
   "metadata": {},
   "outputs": [
    {
     "name": "stdout",
     "output_type": "stream",
     "text": [
      "                 Generalized Linear Model Regression Results                  \n",
      "==============================================================================\n",
      "Dep. Variable:              same_side   No. Observations:               191170\n",
      "Model:                            GLM   Df Residuals:                   191167\n",
      "Model Family:                Binomial   Df Model:                            2\n",
      "Link Function:                  Logit   Scale:                          1.0000\n",
      "Method:                          IRLS   Log-Likelihood:            -1.3246e+05\n",
      "Date:                Mon, 06 Jan 2025   Deviance:                   2.6493e+05\n",
      "Time:                        15:16:12   Pearson chi2:                 1.91e+05\n",
      "No. Iterations:                     4   Pseudo R-squ. (CS):          9.090e-06\n",
      "Covariance Type:            nonrobust                                         \n",
      "=========================================================================================\n",
      "                            coef    std err          z      P>|z|      [0.025      0.975]\n",
      "-----------------------------------------------------------------------------------------\n",
      "Intercept                 0.0340      0.008      4.229      0.000       0.018       0.050\n",
      "prev_flip_same_side       0.0084      0.009      0.920      0.358      -0.010       0.026\n",
      "prev_2_flip_same_side     0.0086      0.009      0.943      0.346      -0.009       0.027\n",
      "=========================================================================================\n",
      "                                       formula       deviance       aic  \\\n",
      "0                                            1  264930.809980  0.000000   \n",
      "1                        1+prev_flip_same_side  264929.961771  1.151792   \n",
      "2  1+prev_flip_same_side+prev_2_flip_same_side  264929.072229  2.262250   \n",
      "\n",
      "   df_residual  df_model  \n",
      "0       191169         0  \n",
      "1       191168         1  \n",
      "2       191167         2  \n"
     ]
    }
   ],
   "source": [
    "\n",
    "formula_cst = 'same_side~1'\n",
    "formula_min1 = 'same_side~1+prev_flip_same_side'\n",
    "formula_min2 = 'same_side~1+prev_flip_same_side+prev_2_flip_same_side'\n",
    "#formula_nested = 'same_side+diff_side~1+C(person)+C(coin)+C(person):C(coin)'\n",
    "\n",
    "results = []\n",
    "dic_cst, results_cst = deviance_analysis(df, formula_cst, 'mem_cst_glm', force=True)\n",
    "results.append(dic_cst)\n",
    "dic_min1, results_min1 = deviance_analysis(df, formula_min1, 'mem_min1_glm', force=True)\n",
    "results.append(dic_min1)\n",
    "dic_min2, results_min2 = deviance_analysis(df, formula_min2, 'mem_min2_glm', force=True, summary=True)\n",
    "results.append(dic_min2)\n",
    "\n",
    "results_df = pd.DataFrame(results)\n",
    "results_df['aic'] = results_df['aic'] - results_df['aic'].min()\n",
    "print(results_df)\n"
   ]
  },
  {
   "cell_type": "code",
   "execution_count": 11,
   "metadata": {},
   "outputs": [
    {
     "name": "stdout",
     "output_type": "stream",
     "text": [
      "Table for model comparison : \n",
      "\\begin{table}[htb]\n",
      "\\centering\n",
      "\\caption{Model comparison for models including : no memory, 1-hop memory and 2-hop memory.}\n",
      "\\label{tab:memory-model-comparison}\n",
      "\\begin{tabular}{lccc}\n",
      "\\toprule\n",
      "Model & Deviance & AIC & Model DF \\\\\n",
      "\\midrule\n",
      "\\texttt{1} & 264930.81 & 0.00 & 0 \\\\\n",
      "\\texttt{1+prev_flip_same_side} & 264929.96 & 1.15 & 1 \\\\\n",
      "\\texttt{1+prev_flip_same_side+prev_2_flip_same_side} & 264929.07 & 2.26 & 2 \\\\\n",
      "\\bottomrule\n",
      "\\end{tabular}\n",
      "\\end{table}\n",
      "\n"
     ]
    }
   ],
   "source": [
    "print('Table for model comparison : ')\n",
    "deviance_string = results_df.to_latex(index=False, \n",
    "                columns=['formula', 'deviance', 'aic', 'df_model'], \n",
    "                header=['Model', 'Deviance', 'AIC', 'Model DF'],\n",
    "                formatters={'formula': lambda x: r'\\texttt{'+x+r'}'},\n",
    "                float_format='{:.2f}'.format,\n",
    "                caption='Model comparison for models including : no memory, 1-hop memory and 2-hop memory.',\n",
    "                label='tab:memory-model-comparison',\n",
    "                position='htb',\n",
    "                column_format='lccc')\n",
    "caption_index = deviance_string.find(r'\\caption')\n",
    "deviance_string = deviance_string[:caption_index] + r'\\centering' + '\\n' + deviance_string[caption_index:]\n",
    "print(deviance_string)"
   ]
  },
  {
   "cell_type": "code",
   "execution_count": null,
   "metadata": {},
   "outputs": [],
   "source": []
  }
 ],
 "metadata": {
  "kernelspec": {
   "display_name": "regression",
   "language": "python",
   "name": "python3"
  },
  "language_info": {
   "codemirror_mode": {
    "name": "ipython",
    "version": 3
   },
   "file_extension": ".py",
   "mimetype": "text/x-python",
   "name": "python",
   "nbconvert_exporter": "python",
   "pygments_lexer": "ipython3",
   "version": "3.12.7"
  }
 },
 "nbformat": 4,
 "nbformat_minor": 2
}
