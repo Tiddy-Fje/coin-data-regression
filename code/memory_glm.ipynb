{
 "cells": [
  {
   "cell_type": "code",
   "execution_count": 4,
   "metadata": {},
   "outputs": [],
   "source": [
    "import pandas as pd\n",
    "from utils import deviance_analysis\n"
   ]
  },
  {
   "cell_type": "code",
   "execution_count": 16,
   "metadata": {},
   "outputs": [
    {
     "name": "stdout",
     "output_type": "stream",
     "text": [
      "(342253, 10)\n"
     ]
    }
   ],
   "source": [
    "\n",
    "df = pd.read_csv('../data/full-coin-data/coin data/analyses/data-long.csv')\n",
    "\n",
    "df['same_side'] = ( df['toss_start'] == df['toss_end'] ).astype(float)\n",
    "df['hop1_mem'] = df.groupby('sequence_id')['same_side'].shift(1)\n",
    "df['hop2_mem'] = df.groupby('sequence_id')['same_side'].shift(2)\n",
    "\n",
    "# Remove the first two entries of each sequence to avoid NaN values\n",
    "df = df[df['toss_id'] > 2].reset_index(drop=True)\n",
    "# Only keep a fraction of the data to speed up the analysis, not needed given the small number of parameters\n",
    "#df = df[df['sequence_id'] < 80].reset_index(drop=True)\n",
    "\n",
    "#print(df.iloc[10000-10:10005-10])\n",
    "print(df.shape)\n"
   ]
  },
  {
   "cell_type": "code",
   "execution_count": 17,
   "metadata": {},
   "outputs": [
    {
     "name": "stdout",
     "output_type": "stream",
     "text": [
      "                 Generalized Linear Model Regression Results                  \n",
      "==============================================================================\n",
      "Dep. Variable:              same_side   No. Observations:               342253\n",
      "Model:                            GLM   Df Residuals:                   342250\n",
      "Model Family:                Binomial   Df Model:                            2\n",
      "Link Function:                  Logit   Scale:                          1.0000\n",
      "Method:                          IRLS   Log-Likelihood:            -2.3719e+05\n",
      "Date:                Mon, 06 Jan 2025   Deviance:                   4.7438e+05\n",
      "Time:                        17:29:30   Pearson chi2:                 3.42e+05\n",
      "No. Iterations:                     4   Pseudo R-squ. (CS):          2.974e-06\n",
      "Covariance Type:            nonrobust                                         \n",
      "==============================================================================\n",
      "                 coef    std err          z      P>|z|      [0.025      0.975]\n",
      "------------------------------------------------------------------------------\n",
      "Intercept      0.0262      0.006      4.384      0.000       0.015       0.038\n",
      "hop1_mem       0.0062      0.007      0.899      0.368      -0.007       0.020\n",
      "hop2_mem       0.0031      0.007      0.456      0.649      -0.010       0.017\n",
      "==============================================================================\n",
      "               formula       deviance       aic  df_residual  df_model\n",
      "0                    1  474381.543581  0.000000       342252         0\n",
      "1           1+hop1_mem  474380.733562  1.189981       342251         1\n",
      "2  1+hop1_mem+hop2_mem  474380.525848  2.982267       342250         2\n"
     ]
    }
   ],
   "source": [
    "\n",
    "formula_cst = 'same_side~1'\n",
    "formula_min1 = 'same_side~1+hop1_mem'\n",
    "formula_min2 = 'same_side~1+hop1_mem+hop2_mem'\n",
    "#formula_nested = 'same_side+diff_side~1+C(person)+C(coin)+C(person):C(coin)'\n",
    "\n",
    "results = []\n",
    "dic_cst, results_cst = deviance_analysis(df, formula_cst, 'mem_cst_glm', force=True)\n",
    "results.append(dic_cst)\n",
    "dic_min1, results_min1 = deviance_analysis(df, formula_min1, 'hop1_mem_glm', force=True)\n",
    "results.append(dic_min1)\n",
    "dic_min2, results_min2 = deviance_analysis(df, formula_min2, 'hop2_mem_glm', force=True, summary=True)\n",
    "results.append(dic_min2)\n",
    "\n",
    "results_df = pd.DataFrame(results)\n",
    "results_df['aic'] = results_df['aic'] - results_df['aic'].min()\n",
    "print(results_df)\n"
   ]
  },
  {
   "cell_type": "code",
   "execution_count": 18,
   "metadata": {},
   "outputs": [
    {
     "name": "stdout",
     "output_type": "stream",
     "text": [
      "Table for model comparison : \n",
      "\\begin{table}[htb]\n",
      "\\centering\n",
      "\\caption{Model comparison for models including : no memory, 1-hop memory and 2-hop memory.}\n",
      "\\label{tab:memory-model-comparison}\n",
      "\\begin{tabular}{lccc}\n",
      "\\toprule\n",
      "Model & Deviance & AIC & Model DF \\\\\n",
      "\\midrule\n",
      "\\texttt{1} & 474381.54 & 0.00 & 0 \\\\\n",
      "\\texttt{1+hop1\\_mem} & 474380.73 & 1.19 & 1 \\\\\n",
      "\\texttt{1+hop1\\_mem+hop2\\_mem} & 474380.53 & 2.98 & 2 \\\\\n",
      "\\bottomrule\n",
      "\\end{tabular}\n",
      "\\end{table}\n",
      "\n"
     ]
    }
   ],
   "source": [
    "print('Table for model comparison : ')\n",
    "deviance_string = results_df.to_latex(index=False, \n",
    "                columns=['formula', 'deviance', 'aic', 'df_model'], \n",
    "                header=['Model', 'Deviance', 'AIC', 'Model DF'],\n",
    "                formatters={'formula': lambda x: r'\\texttt{'+x+r'}'},\n",
    "                float_format='{:.2f}'.format,\n",
    "                caption='Model comparison for models including : no memory, 1-hop memory and 2-hop memory.',\n",
    "                label='tab:memory-model-comparison',\n",
    "                position='htb',\n",
    "                column_format='lccc')\n",
    "caption_index = deviance_string.find(r'\\caption')\n",
    "deviance_string = deviance_string.replace(r'_', r'\\_')\n",
    "deviance_string = deviance_string[:caption_index] + r'\\centering' + '\\n' + deviance_string[caption_index:]\n",
    "print(deviance_string)"
   ]
  },
  {
   "cell_type": "code",
   "execution_count": null,
   "metadata": {},
   "outputs": [],
   "source": []
  }
 ],
 "metadata": {
  "kernelspec": {
   "display_name": "regression",
   "language": "python",
   "name": "python3"
  },
  "language_info": {
   "codemirror_mode": {
    "name": "ipython",
    "version": 3
   },
   "file_extension": ".py",
   "mimetype": "text/x-python",
   "name": "python",
   "nbconvert_exporter": "python",
   "pygments_lexer": "ipython3",
   "version": "3.12.7"
  }
 },
 "nbformat": 4,
 "nbformat_minor": 2
}
